{
 "metadata": {
  "language_info": {
   "codemirror_mode": {
    "name": "ipython",
    "version": 3
   },
   "file_extension": ".py",
   "mimetype": "text/x-python",
   "name": "python",
   "nbconvert_exporter": "python",
   "pygments_lexer": "ipython3",
   "version": "3.8.3-final"
  },
  "orig_nbformat": 2,
  "kernelspec": {
   "name": "python3",
   "display_name": "Python 3",
   "language": "python"
  }
 },
 "nbformat": 4,
 "nbformat_minor": 2,
 "cells": [
  {
   "cell_type": "code",
   "execution_count": 68,
   "metadata": {},
   "outputs": [],
   "source": [
    "%run binary_indexed_tree.py"
   ]
  },
  {
   "source": [
    "add(i, x)        : A[i] += x <br>\n",
    "sumrange(lo, hi) : A[lo]~A[hi] の和を返す (int)"
   ],
   "cell_type": "markdown",
   "metadata": {}
  },
  {
   "source": [
    "A : 0, 0, 0, 0, 0"
   ],
   "cell_type": "markdown",
   "metadata": {}
  },
  {
   "cell_type": "code",
   "execution_count": 76,
   "metadata": {},
   "outputs": [],
   "source": [
    "N = 5\n",
    "BIT = BinaryIndexedTree(N)"
   ]
  },
  {
   "cell_type": "code",
   "execution_count": 77,
   "metadata": {},
   "outputs": [
    {
     "output_type": "stream",
     "name": "stdout",
     "text": [
      "0\n0\n0\n0\n"
     ]
    }
   ],
   "source": [
    "print(BIT.sumrange(0,1))\n",
    "print(BIT.sumrange(0,3))\n",
    "print(BIT.sumrange(1,3))\n",
    "print(BIT.sumrange(0,4))"
   ]
  },
  {
   "source": [
    "A : 1, 2, -3 , 0, 4"
   ],
   "cell_type": "markdown",
   "metadata": {}
  },
  {
   "cell_type": "code",
   "execution_count": 78,
   "metadata": {},
   "outputs": [],
   "source": [
    "BIT.add(0, 1)\n",
    "BIT.add(1, 2)\n",
    "BIT.add(2, -3)\n",
    "BIT.add(4, 4)"
   ]
  },
  {
   "source": [
    "A[0]+A[1] (1+2) (1+2 = 3)<br>\n",
    "A[0]+A[1]+A[2]+A[3] (1+2-3+0 = 0)<br>\n",
    "A[1]+A[2]+A[3] (2-3+0 = -1) <br>\n",
    "A[0]+A[1]+A[2]+A[3]+A[4] (1+2-3+0+4 = 4)"
   ],
   "cell_type": "markdown",
   "metadata": {}
  },
  {
   "cell_type": "code",
   "execution_count": 80,
   "metadata": {},
   "outputs": [
    {
     "output_type": "stream",
     "name": "stdout",
     "text": [
      "3\n0\n-1\n4\n"
     ]
    }
   ],
   "source": [
    "print(BIT.sumrange(0,1))\n",
    "print(BIT.sumrange(0,3))\n",
    "print(BIT.sumrange(1,3))\n",
    "print(BIT.sumrange(0,4))"
   ]
  },
  {
   "cell_type": "code",
   "execution_count": null,
   "metadata": {},
   "outputs": [],
   "source": []
  }
 ]
}