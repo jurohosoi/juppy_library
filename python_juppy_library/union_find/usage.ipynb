{
 "metadata": {
  "language_info": {
   "codemirror_mode": {
    "name": "ipython",
    "version": 3
   },
   "file_extension": ".py",
   "mimetype": "text/x-python",
   "name": "python",
   "nbconvert_exporter": "python",
   "pygments_lexer": "ipython3",
   "version": "3.8.3-final"
  },
  "orig_nbformat": 2,
  "kernelspec": {
   "name": "python3",
   "display_name": "Python 3",
   "language": "python"
  }
 },
 "nbformat": 4,
 "nbformat_minor": 2,
 "cells": [
  {
   "cell_type": "code",
   "execution_count": 47,
   "metadata": {},
   "outputs": [],
   "source": [
    "%run union_find.py"
   ]
  },
  {
   "source": [
    "find_root(a) : a の属するグループのリーダーを返す. (int) <br>\n",
    "merge(a, b)  : a, b が属するグループを統合する. 統合する前に既に同じグループであるかを返す. (bool) <br>\n",
    "same(a, b)   : a, b が同じグループかを返す. (bool) <br>\n",
    "size(a)      : a が属するグループの大きさを返す. (int) <br>"
   ],
   "cell_type": "markdown",
   "metadata": {}
  },
  {
   "source": [
    "グループ0,1,2,3,4 の5人がいる.<br>\n",
    "はじめ, 各々は違うグループに属している. (つまり5つのグループが存在する)"
   ],
   "cell_type": "markdown",
   "metadata": {}
  },
  {
   "cell_type": "code",
   "execution_count": 57,
   "metadata": {},
   "outputs": [],
   "source": [
    "N = 5\n",
    "UFT = UnionFindTree(N)"
   ]
  },
  {
   "source": [
    "0, 1 は同じグループに属しているか<br>\n",
    "0, 3 は同じグループに属しているか<br>\n",
    "1, 4 は同じグループに属しているか<br>"
   ],
   "cell_type": "markdown",
   "metadata": {}
  },
  {
   "source": [
    "print(UFT.same(0, 1))\n",
    "print(UFT.same(0, 3))\n",
    "print(UFT.same(1, 4))"
   ],
   "cell_type": "code",
   "metadata": {},
   "execution_count": 58,
   "outputs": [
    {
     "output_type": "stream",
     "name": "stdout",
     "text": [
      "False\nFalse\nFalse\n"
     ]
    }
   ]
  },
  {
   "source": [
    "0, 1のグループを統合する"
   ],
   "cell_type": "markdown",
   "metadata": {}
  },
  {
   "cell_type": "code",
   "execution_count": 59,
   "metadata": {},
   "outputs": [
    {
     "output_type": "execute_result",
     "data": {
      "text/plain": [
       "False"
      ]
     },
     "metadata": {},
     "execution_count": 59
    }
   ],
   "source": [
    "UFT.merge(0, 1)"
   ]
  },
  {
   "source": [
    "0, 1 は同じグループに属しているか<br>\n",
    "0, 3 は同じグループに属しているか<br>\n",
    "1, 4 は同じグループに属しているか<br>"
   ],
   "cell_type": "markdown",
   "metadata": {}
  },
  {
   "cell_type": "code",
   "execution_count": 60,
   "metadata": {},
   "outputs": [
    {
     "output_type": "stream",
     "name": "stdout",
     "text": [
      "True\nFalse\nFalse\n"
     ]
    }
   ],
   "source": [
    "print(UFT.same(0, 1))\n",
    "print(UFT.same(0, 3))\n",
    "print(UFT.same(1, 4))"
   ]
  },
  {
   "source": [
    "0, 4のグループを統合する (統合されたグループは {0, 1, 4} となる)"
   ],
   "cell_type": "markdown",
   "metadata": {}
  },
  {
   "cell_type": "code",
   "execution_count": 61,
   "metadata": {},
   "outputs": [
    {
     "output_type": "execute_result",
     "data": {
      "text/plain": [
       "False"
      ]
     },
     "metadata": {},
     "execution_count": 61
    }
   ],
   "source": [
    "UFT.merge(0, 4)"
   ]
  },
  {
   "source": [
    "0, 1 は同じグループに属しているか<br>\n",
    "0, 3 は同じグループに属しているか<br>\n",
    "1, 4 は同じグループに属しているか<br>"
   ],
   "cell_type": "markdown",
   "metadata": {}
  },
  {
   "cell_type": "code",
   "execution_count": 62,
   "metadata": {},
   "outputs": [
    {
     "output_type": "stream",
     "name": "stdout",
     "text": [
      "True\nFalse\nTrue\n"
     ]
    }
   ],
   "source": [
    "print(UFT.same(0, 1))\n",
    "print(UFT.same(0, 3))\n",
    "print(UFT.same(1, 4))"
   ]
  },
  {
   "source": [
    "0 が属するグループの大きさはいくつか (0の属するグループは {0, 1, 4} )"
   ],
   "cell_type": "markdown",
   "metadata": {}
  },
  {
   "cell_type": "code",
   "execution_count": 63,
   "metadata": {},
   "outputs": [
    {
     "output_type": "stream",
     "name": "stdout",
     "text": [
      "3\n"
     ]
    }
   ],
   "source": [
    "print(UFT.size(0))"
   ]
  },
  {
   "cell_type": "code",
   "execution_count": null,
   "metadata": {},
   "outputs": [],
   "source": []
  }
 ]
}